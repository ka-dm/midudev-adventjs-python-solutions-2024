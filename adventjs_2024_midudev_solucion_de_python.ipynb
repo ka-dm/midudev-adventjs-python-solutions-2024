{
  "nbformat": 4,
  "nbformat_minor": 0,
  "metadata": {
    "colab": {
      "provenance": [],
      "authorship_tag": "ABX9TyOGBYRp6MBHlpniyS25+lSI",
      "include_colab_link": true
    },
    "kernelspec": {
      "name": "python3",
      "display_name": "Python 3"
    },
    "language_info": {
      "name": "python"
    }
  },
  "cells": [
    {
      "cell_type": "markdown",
      "metadata": {
        "id": "view-in-github",
        "colab_type": "text"
      },
      "source": [
        "<a href=\"https://colab.research.google.com/github/ka-dm/midudev-adventjs-python-solutions-2024/blob/main/adventjs_2024_midudev_solucion_de_python.ipynb\" target=\"_parent\"><img src=\"https://colab.research.google.com/assets/colab-badge.svg\" alt=\"Open In Colab\"/></a>"
      ]
    },
    {
      "cell_type": "code",
      "source": [
        "# Dia 2\n",
        "\n",
        "names = ['midu', 'madeval', 'educalvolpz']\n",
        "\n",
        "def createFrame(names):\n",
        "  longitud_maxima = len(max(names, key=len))\n",
        "\n",
        "  respuesta = '*' * (longitud_maxima + 4) + '\\n'\n",
        "  for cadena in names:\n",
        "    linea = '* ' + cadena.ljust(longitud_maxima, ' ') + ' *\\n'\n",
        "    respuesta += linea\n",
        "  respuesta += '*' * (longitud_maxima + 4) + '\\n'\n",
        "  return respuesta\n",
        "\n",
        "print(createFrame(names))\n"
      ],
      "metadata": {
        "colab": {
          "base_uri": "https://localhost:8080/"
        },
        "id": "Fzs0bhThm5hs",
        "outputId": "e75e3606-a2c2-4e32-83dd-90ab78aae35d"
      },
      "execution_count": null,
      "outputs": [
        {
          "output_type": "stream",
          "name": "stdout",
          "text": [
            "***************\n",
            "* midu        *\n",
            "* madeval     *\n",
            "* educalvolpz *\n",
            "***************\n",
            "\n"
          ]
        }
      ]
    },
    {
      "cell_type": "code",
      "source": [
        "# Dia 3\n",
        "\n",
        "inventory = [\n",
        "  { \"name\": 'doll', \"quantity\": 5, \"category\": 'toys' },\n",
        "  { \"name\": 'car', \"quantity\": 3, \"category\": 'toys' },\n",
        "  { \"name\": 'ball', \"quantity\": 2, \"category\": 'sports' },\n",
        "  { \"name\": 'car', \"quantity\": 2, \"category\": 'toys' },\n",
        "  { \"name\": 'racket', \"quantity\": 4, \"category\": 'sports' }\n",
        "]\n",
        "\n",
        "def organizeInventory(inventory):\n",
        "  respuesta = {}\n",
        "\n",
        "  for elemento in inventory:\n",
        "    if elemento['category'] in respuesta:\n",
        "      if elemento['name'] in respuesta[elemento['category']]:\n",
        "        respuesta[elemento['category']][elemento['name']] += elemento['quantity']\n",
        "      else:\n",
        "        respuesta[elemento['category']].update({elemento['name']: elemento['quantity']})\n",
        "\n",
        "    else:\n",
        "      respuesta[elemento['category']] = {elemento['name']: elemento['quantity']}\n",
        "\n",
        "\n",
        "  return respuesta\n",
        "\n",
        "\n",
        "print(organizeInventory(inventory))"
      ],
      "metadata": {
        "colab": {
          "base_uri": "https://localhost:8080/"
        },
        "id": "LMStaHpPqc5y",
        "outputId": "2d469c84-7f12-43c9-ccce-50f402690d25"
      },
      "execution_count": null,
      "outputs": [
        {
          "output_type": "stream",
          "name": "stdout",
          "text": [
            "{'toys': {'doll': 5, 'car': 5}, 'sports': {'ball': 2, 'racket': 4}}\n"
          ]
        }
      ]
    },
    {
      "cell_type": "markdown",
      "source": [
        "# Dia 4\n",
        "\n",
        "**¡Es hora de poner el árbol de Navidad en casa!** 🎄 Pero este año queremos que sea especial. Vamos a crear una función que recibe la altura del árbol (un entero positivo entre 1 y 100) y un carácter especial para decorarlo.\n",
        "\n",
        "La función debe devolver un string que represente el árbol de Navidad, construido de la siguiente manera:\n",
        "\n",
        "* El árbol está compuesto de triángulos de caracteres especiales.\n",
        "* Los espacios en blanco a los lados del árbol se representan con guiones bajos _.\n",
        "* Todos los árboles tienen un tronco de dos líneas, representado por el carácter #.\n",
        "* El árbol siempre debe tener la misma longitud por cada lado.\n",
        "* Debes asegurarte de que el árbol tenga la forma correcta usando saltos de línea \\n para cada línea.\n",
        "\n",
        "# Ejemplos:\n",
        "```javascript\n",
        "const tree = createXmasTree(5, '*')\n",
        "console.log(tree)\n",
        "/*\n",
        "____*____\n",
        "___***___\n",
        "__*****__\n",
        "_*******_\n",
        "*********\n",
        "____#____\n",
        "____#____\n",
        "*/\n",
        "\n",
        "const tree2 = createXmasTree(3, '+')\n",
        "console.log(tree2)\n",
        "/*\n",
        "__+__\n",
        "_+++_\n",
        "+++++\n",
        "__#__\n",
        "__#__\n",
        "*/\n",
        "\n",
        "const tree3 = createXmasTree(6, '@')\n",
        "console.log(tree3)\n",
        "/*\n",
        "_____@_____\n",
        "____@@@____\n",
        "___@@@@@___\n",
        "__@@@@@@@__\n",
        "_@@@@@@@@@_\n",
        "@@@@@@@@@@@\n",
        "_____#_____\n",
        "_____#_____\n",
        "*/\n",
        "Asegúrate de utilizar saltos de línea \\n al final de cada línea, excepto en la última.\n",
        "```\n",
        "\n"
      ],
      "metadata": {
        "id": "DITyZECkvZMG"
      }
    },
    {
      "cell_type": "code",
      "source": [
        "def create_xmas_tree(height, ornament):\n",
        "  tree = ''\n",
        "  mid = round(height/2)\n",
        "  for i in range(height):\n",
        "    white_left = len(ornament * i)\n",
        "    white_right = len(ornament * (i + 1))\n",
        "    tree += \"_\" * ((height - 1) - white_left) + ornament * i + ornament * (i + 1) + \"_\" * (height - white_right)\n",
        "    tree += '\\n'\n",
        "  tree += \"_\" * (height - 1) + '#' + \"_\" * (height - 1) + '\\n'\n",
        "  tree += \"_\" * (height - 1) + '#' + \"_\" * (height - 1)\n",
        "  return tree\n",
        "\n",
        "print(create_xmas_tree(5, '*'), end='\\n\\n')\n",
        "print(create_xmas_tree(3, '+'), end='\\n\\n')\n",
        "print(create_xmas_tree(6, '@'), end='\\n\\n')\n"
      ],
      "metadata": {
        "colab": {
          "base_uri": "https://localhost:8080/"
        },
        "id": "ecHLjK9-oZdq",
        "outputId": "87d462f5-ba35-4be4-c7b1-7796fea0349f"
      },
      "execution_count": null,
      "outputs": [
        {
          "output_type": "stream",
          "name": "stdout",
          "text": [
            "____*____\n",
            "___***___\n",
            "__*****__\n",
            "_*******_\n",
            "*********\n",
            "____#____\n",
            "____#____\n",
            "\n",
            "__+__\n",
            "_+++_\n",
            "+++++\n",
            "__#__\n",
            "__#__\n",
            "\n",
            "_____@_____\n",
            "____@@@____\n",
            "___@@@@@___\n",
            "__@@@@@@@__\n",
            "_@@@@@@@@@_\n",
            "@@@@@@@@@@@\n",
            "_____#_____\n",
            "_____#_____\n",
            "\n"
          ]
        }
      ]
    },
    {
      "cell_type": "markdown",
      "source": [
        "# Dia 5\n",
        "\n",
        "Los elfos 🧝🧝‍♂️ de Santa Claus han encontrado un montón de botas mágicas desordenadas en el taller. Cada bota se describe por dos valores:\n",
        "\n",
        "type indica si es una bota izquierda (I) o derecha (R).\n",
        "size indica el tamaño de la bota.\n",
        "Tu tarea es ayudar a los elfos a emparejar todas las botas del mismo tamaño que tengan izquierda y derecha. Para ello, debes devolver una lista con los pares disponibles después de emparejar las botas.\n",
        "\n",
        "¡Ten en cuenta que puedes tener más de una zapatilla emparejada del mismo tamaño!\n",
        "\n",
        "\n",
        "```javascript\n",
        "const shoes = [\n",
        "  { type: 'I', size: 38 },\n",
        "  { type: 'R', size: 38 },\n",
        "  { type: 'R', size: 42 },\n",
        "  { type: 'I', size: 41 },\n",
        "  { type: 'I', size: 42 }\n",
        "]\n",
        "\n",
        "organizeShoes(shoes)\n",
        "// [38, 42]\n",
        "\n",
        "const shoes2 = [\n",
        "  { type: 'I', size: 38 },\n",
        "  { type: 'R', size: 38 },\n",
        "  { type: 'I', size: 38 },\n",
        "  { type: 'I', size: 38 },\n",
        "  { type: 'R', size: 38 }\n",
        "]\n",
        "// [38, 38]\n",
        "\n",
        "const shoes3 = [\n",
        "  { type: 'I', size: 38 },\n",
        "  { type: 'R', size: 36 },\n",
        "  { type: 'R', size: 42 },\n",
        "  { type: 'I', size: 41 },\n",
        "  { type: 'I', size: 43 }\n",
        "]\n",
        "\n",
        "organizeShoes(shoes3)\n",
        "// []\n",
        "```\n",
        "\n",
        "\n"
      ],
      "metadata": {
        "id": "25ItHdkYw4hs"
      }
    },
    {
      "cell_type": "code",
      "source": [
        "shoes = [\n",
        "  { \"type\": 'I', \"size\": 38 },\n",
        "  { \"type\": 'R', \"size\": 38 },\n",
        "  { \"type\": 'R', \"size\": 42 },\n",
        "  { \"type\": 'I', \"size\": 41 },\n",
        "  { \"type\": 'I', \"size\": 42 }\n",
        "]\n",
        "\n",
        "shoes2 = [\n",
        "  { \"type\": 'I', \"size\": 38 },\n",
        "  { \"type\": 'R', \"size\": 38 },\n",
        "  { \"type\": 'I', \"size\": 38 },\n",
        "  { \"type\": 'I', \"size\": 38 },\n",
        "  { \"type\": 'R', \"size\": 38 }\n",
        "]\n",
        "\n",
        "shoes3 = [\n",
        "  { \"type\": 'I', \"size\": 38 },\n",
        "  { \"type\": 'R', \"size\": 36 },\n",
        "  { \"type\": 'R', \"size\": 42 },\n",
        "  { \"type\": 'I', \"size\": 41 },\n",
        "  { \"type\": 'I', \"size\": 43 }\n",
        "]\n",
        "\n",
        "shoes9 = [\n",
        "  { \"type\": 'I', \"size\": 39 },\n",
        "  { \"type\": 'R', \"size\": 39 },\n",
        "  { \"type\": 'R', \"size\": 39 }\n",
        "]\n",
        "\n",
        "def organizeShoes(shoes):\n",
        "  izq = [shoe['size'] for shoe in shoes if shoe['type'] == \"I\"]\n",
        "  der = [shoe['size'] for shoe in shoes if shoe['type'] == \"R\"]\n",
        "  pairs = []\n",
        "  for size in der:\n",
        "      if size in izq:\n",
        "          pairs.append(size)\n",
        "          izq.remove(size)\n",
        "  return pairs\n",
        "\n",
        "print(organizeShoes(shoes9))"
      ],
      "metadata": {
        "colab": {
          "base_uri": "https://localhost:8080/"
        },
        "id": "-Bo3C9cTp0Zi",
        "outputId": "a31b2e52-a592-4f1a-dd39-822d22704750"
      },
      "execution_count": null,
      "outputs": [
        {
          "output_type": "stream",
          "name": "stdout",
          "text": [
            "[39]\n"
          ]
        }
      ]
    },
    {
      "cell_type": "markdown",
      "source": [
        "# Dia 6\n",
        "\n",
        "Ya hemos empaquetado cientos de regalos 🎁… pero a un elfo se le ha olvidado revisar si el regalo, representado por un asterisco *, está dentro de la caja.\n",
        "\n",
        "La caja tiene un regalo (*) y cuenta como dentro de la caja si:\n",
        "\n",
        "Está rodeada por # en los bordes de la caja.\n",
        "El * no está en los bordes de la caja.\n",
        "Ten en cuenta entonces que el * puede estar dentro, fuera o incluso no estar. Y debemos devolver true si el * está dentro de la caja y false en caso contrario.\n",
        "\n",
        "Ejemplos:\n",
        "\n",
        "\n",
        "\n",
        "```javascript\n",
        "inBox([\n",
        "  \"###\",\n",
        "  \"#*#\",\n",
        "  \"###\"\n",
        "]) // ➞ true\n",
        "\n",
        "inBox([\n",
        "  \"####\",\n",
        "  \"#* #\",\n",
        "  \"#  #\",\n",
        "  \"####\"\n",
        "]) // ➞ true\n",
        "\n",
        "inBox([\n",
        "  \"#####\",\n",
        "  \"#   #\",\n",
        "  \"#  #*\",\n",
        "  \"#####\"\n",
        "]) // ➞ false\n",
        "\n",
        "inBox([\n",
        "  \"#####\",\n",
        "  \"#   #\",\n",
        "  \"#   #\",\n",
        "  \"#   #\",\n",
        "  \"#####\"\n",
        "]) // ➞ false\n",
        "```"
      ],
      "metadata": {
        "id": "3tJkYIcZFhxF"
      }
    },
    {
      "cell_type": "code",
      "source": [
        "inBox1 = [\n",
        "  \"###\",\n",
        "  \"#*#\",\n",
        "  \"###\"\n",
        "] # ➞ true\n",
        "\n",
        "inBox2 =[\n",
        "  \"####\",\n",
        "  \"#* #\",\n",
        "  \"#  #\",\n",
        "  \"####\"\n",
        "] # ➞ true\n",
        "\n",
        "inBox3 = [\n",
        "  \"#####\",\n",
        "  \"#   #\",\n",
        "  \"#  #*\",\n",
        "  \"#####\"\n",
        "] # ➞ false\n",
        "\n",
        "inBox4 = [\n",
        "  \"#####\",\n",
        "  \"#   #\",\n",
        "  \"#   #\",\n",
        "  \"#   #\",\n",
        "  \"#####\"\n",
        "] # ➞ false\n",
        "\n",
        "inBox5 = [\n",
        "  \"#*#\",\n",
        "  \"###\",\n",
        "  \"###\",\n",
        "] # ➞ false\n",
        "\n",
        "cases = [inBox1, inBox2, inBox3, inBox4, inBox5]\n",
        "\n",
        "# Version 1: 2 estrellas\n",
        "def in_box(box):\n",
        "  exist_star = False\n",
        "  inside = True\n",
        "  for line in box:\n",
        "    if '*' in line:\n",
        "      exist_star = True\n",
        "      if line.startswith('*') or line.endswith('*'):\n",
        "        inside = False\n",
        "\n",
        "  if '*' in box[0] or  '*' in box[-1]:\n",
        "    inside = False\n",
        "\n",
        "  if exist_star and inside:\n",
        "    return True\n",
        "  else:\n",
        "    return False\n",
        "\n",
        "# Version 2: 5 estrellas optimizada con ChatGPT\n",
        "def in_box2(box):\n",
        "  # Asterisco no debe estar en la primera o última línea\n",
        "  if '*' in box[0] or '*' in box[-1]:\n",
        "      return False\n",
        "\n",
        "  # Recorremos las líneas excluyendo la primera y la última\n",
        "  for line in box[1:-1]:\n",
        "      # Si la línea contiene '*', verificamos que no esté en los bordes\n",
        "      if '*' in line and line[1:-1].find('*') != -1:\n",
        "          return True\n",
        "\n",
        "  return False\n",
        "\n",
        "for case in cases:\n",
        "  print(in_box(case),end='\\n\\n')"
      ],
      "metadata": {
        "id": "04lIUpTaFhY-",
        "outputId": "0c76fcf9-4e4c-40ec-f489-f8c39c282c7f",
        "colab": {
          "base_uri": "https://localhost:8080/"
        }
      },
      "execution_count": null,
      "outputs": [
        {
          "output_type": "stream",
          "name": "stdout",
          "text": [
            "True\n",
            "\n",
            "True\n",
            "\n",
            "False\n",
            "\n",
            "False\n",
            "\n",
            "False\n",
            "\n"
          ]
        }
      ]
    },
    {
      "cell_type": "markdown",
      "source": [
        "# Dia 7\n",
        "¡El grinch 👹 ha pasado por el taller de Santa Claus! Y menudo desastre ha montado. Ha cambiado el orden de algunos paquetes, por lo que los envíos no se pueden realizar.\n",
        "\n",
        "Por suerte, el elfo Pheralb ha detectado el patrón que ha seguido el grinch para desordenarlos. Nos ha escrito las reglas que debemos seguir para reordenar los paquetes. Las instrucciones que siguen son:\n",
        "\n",
        "Recibirás un string que contiene letras y paréntesis.\n",
        "Cada vez que encuentres un par de paréntesis, debes voltear el contenido dentro de ellos.\n",
        "Si hay paréntesis anidados, resuelve primero los más internos.\n",
        "Devuelve el string resultante con los paréntesis eliminados, pero con el contenido volteado correctamente.\n",
        "Nos ha dejado algunos ejemplos:\n",
        "\n",
        "\n",
        "```javascript\n",
        "fixPackages('a(cb)de')\n",
        "// ➞ \"abcde\"\n",
        "// Volteamos \"cb\" dentro de los paréntesis\n",
        "\n",
        "fixPackages('a(bc(def)g)h')\n",
        "// ➞ \"agdefcbh\"\n",
        "// 1º volteamos \"def\" → \"fed\", luego volteamos \"bcfedg\" → \"gdefcb\"\n",
        "\n",
        "fixPackages('abc(def(gh)i)jk')\n",
        "// ➞ \"abcighfedjk\"\n",
        "// 1º volteamos \"gh\" → \"hg\", luego \"defhgi\" → \"ighfed\"\n",
        "\n",
        "fixPackages('a(b(c))e')\n",
        "// ➞ \"acbe\"\n",
        "// 1º volteamos \"c\" → \"c\", luego \"bc\" → \"cb\"\n",
        "```\n",
        "\n"
      ],
      "metadata": {
        "id": "BivOxfHkk4gd"
      }
    },
    {
      "cell_type": "code",
      "source": [
        "def fix_packages(packages):\n",
        "  if '(' in packages and ')' in packages:\n",
        "    start = packages.find('(')\n",
        "    end = packages.rfind(')')\n",
        "    res = fix_packages(packages[start+1:end])\n",
        "    packages = packages.replace(packages[start:end+1], res[::-1])\n",
        "    return packages\n",
        "  else:\n",
        "    return packages\n",
        "\n",
        "cases = ['a(cb)de', 'a(bc(def)g)h', 'abc(def(gh)i)jk', 'a(b(c))e']\n",
        "is_correct = ['abcde', 'agdefcbh', 'abcighfedjk', 'acbe']\n",
        "\n",
        "for case, correct in zip(cases, is_correct):\n",
        "  res = fix_packages(case)\n",
        "  print(f\"Es correcto? {res == correct}, {case} → {res}\")"
      ],
      "metadata": {
        "colab": {
          "base_uri": "https://localhost:8080/"
        },
        "id": "4rQeNIw_lEP_",
        "outputId": "751a017c-d964-4635-9795-6ddce9ca12df"
      },
      "execution_count": null,
      "outputs": [
        {
          "output_type": "stream",
          "name": "stdout",
          "text": [
            "Es correcto? True, a(cb)de → abcde\n",
            "Es correcto? True, a(bc(def)g)h → agdefcbh\n",
            "Es correcto? True, abc(def(gh)i)jk → abcighfedjk\n",
            "Es correcto? True, a(b(c))e → acbe\n"
          ]
        }
      ]
    },
    {
      "cell_type": "code",
      "source": [
        "# solucion optimzada de chatGPT\n",
        "def fix_packages(packages):\n",
        "    stack = []\n",
        "    for char in packages:\n",
        "        if char == ')':\n",
        "            inverted = []\n",
        "            while stack[-1] != '(':\n",
        "                inverted.append(stack.pop())\n",
        "            stack.pop()  # Remover '('\n",
        "            stack.extend(inverted)  # Agregar contenido invertido\n",
        "        else:\n",
        "            stack.append(char)\n",
        "    return ''.join(stack)\n",
        "\n",
        "# Casos de prueba\n",
        "cases = ['a(cb)de', 'a(bc(def)g)h', 'abc(def(gh)i)jk', 'a(b(c))e']\n",
        "is_correct = ['abcde', 'agdefcbh', 'abcighfedjk', 'acbe']\n",
        "\n",
        "for case, correct in zip(cases, is_correct):\n",
        "    res = fix_packages(case)\n",
        "    print(f\"Es correcto? {res == correct}, {case} → {res}\")"
      ],
      "metadata": {
        "colab": {
          "base_uri": "https://localhost:8080/"
        },
        "id": "vAuDHX6t5E4p",
        "outputId": "7d821108-c7d2-46fe-bf3a-14dbb5eeac5f"
      },
      "execution_count": null,
      "outputs": [
        {
          "output_type": "stream",
          "name": "stdout",
          "text": [
            "Es correcto? True, a(cb)de → abcde\n",
            "Es correcto? True, a(bc(def)g)h → agdefcbh\n",
            "Es correcto? True, abc(def(gh)i)jk → abcighfedjk\n",
            "Es correcto? True, a(b(c))e → acbe\n"
          ]
        }
      ]
    },
    {
      "cell_type": "markdown",
      "source": [
        "# Dia 8\n",
        "\n",
        "¡Es hora de seleccionar a los renos más rápidos para los viajes de Santa! 🦌🎄\n",
        "Santa Claus ha organizado unas emocionantes carreras de renos para decidir cuáles están en mejor forma.\n",
        "\n",
        "Tu tarea es mostrar el progreso de cada reno en una pista de nieve en formato isométrico.\n",
        "\n",
        "La información que recibes:\n",
        "\n",
        "indices: Un array de enteros que representan el progreso de cada reno en la pista:\n",
        "0: El carril está vacío.\n",
        "Número positivo: La posición actual del reno desde el inicio de la pista.\n",
        "Número negativo: La posición actual del reno desde el final de la pista.\n",
        "length: La longitud de cada carril.\n",
        "Devuelve un string que represente la pista de la carrera:\n",
        "\n",
        "Cada carril tiene exactamente length posiciones llenas de nieve (~).\n",
        "Cada reno se representa con la letra r.\n",
        "Los carriles están numerados al final con /1, /2, etc.\n",
        "La vista es isométrica, por lo que los carriles inferiores están desplazados hacia la derecha.\n",
        "Ejemplos:\n",
        "\n",
        "\n",
        "\n",
        "```javascript\n",
        "drawRace([0, 5, -3], 10)\n",
        "/*\n",
        "  ~~~~~~~~~~ /1\n",
        " ~~~~~r~~~~ /2\n",
        "~~~~~~~r~~ /3\n",
        "*/\n",
        "\n",
        "drawRace([2, -1, 0, 5], 8)\n",
        "/*\n",
        "   ~~r~~~~~ /1\n",
        "  ~~~~~~~r /2\n",
        " ~~~~~~~~ /3\n",
        "~~~~~r~~ /4\n",
        "*/\n",
        "\n",
        "drawRace([3, 7, -2], 12)\n",
        "/*\n",
        "  ~~~r~~~~~~~~ /1\n",
        " ~~~~~~~~r~~~ /2\n",
        "~~~~~~~~~~r~ /3\n",
        "*/\n",
        "```\n"
      ],
      "metadata": {
        "id": "8fwcmeRDCCJJ"
      }
    },
    {
      "cell_type": "code",
      "source": [
        "def draw_race(indices, length):\n",
        "  resultado = \"\"\n",
        "  cant_participantes = len(indices)\n",
        "  for index, pos_reno  in enumerate(indices, start=1):\n",
        "    traza = '~' * length\n",
        "    if pos_reno != 0:\n",
        "      traza = traza[:pos_reno] + 'r' + traza[pos_reno+1:]\n",
        "\n",
        "    resultado += ' ' * cant_participantes + traza + f' /{index}' + \"\\n\"\n",
        "    cant_participantes -= 1\n",
        "\n",
        "  return resultado\n",
        "\n",
        "cases = [[0, 5, -3], [2, -1, 0, 5], [3, 7, -2]]\n",
        "lengths = [10, 8, 12]\n",
        "\n",
        "for case, length in zip(cases, lengths):\n",
        "  print(draw_race(case, length), end='\\n\\n')"
      ],
      "metadata": {
        "id": "z5iNNbrwCA6t",
        "colab": {
          "base_uri": "https://localhost:8080/"
        },
        "outputId": "10459b97-f005-4861-b6df-3c515d54e09d"
      },
      "execution_count": 22,
      "outputs": [
        {
          "output_type": "stream",
          "name": "stdout",
          "text": [
            "   r~~~~~~~~~ /1\n",
            "  ~~~~~r~~~~ /2\n",
            " ~~~~~~~r~~ /3\n",
            "\n",
            "\n",
            "    ~~r~~~~~ /1\n",
            "   ~~~~~~~r~~~~~~~~ /2\n",
            "  r~~~~~~~ /3\n",
            " ~~~~~r~~ /4\n",
            "\n",
            "\n",
            "   ~~~r~~~~~~~~ /1\n",
            "  ~~~~~~~r~~~~ /2\n",
            " ~~~~~~~~~~r~ /3\n",
            "\n",
            "\n"
          ]
        }
      ]
    },
    {
      "cell_type": "markdown",
      "source": [
        "# Dia 9"
      ],
      "metadata": {
        "id": "W-Z50HDJxdfj"
      }
    },
    {
      "cell_type": "code",
      "source": [
        "from typing import List, Literal\n",
        "\n",
        "def move_train(board: List[str], mov: Literal['U', 'D', 'R', 'L']) -> Literal['none', 'crash', 'eat']:\n",
        "  for pos_y,fila in enumerate(board, start=0):\n",
        "    if '@' in fila:\n",
        "      pos_x = fila.find('@')\n",
        "\n",
        "      match mov:\n",
        "        case 'U':\n",
        "          next_pos_y = pos_y - 1\n",
        "          next_pos_x = pos_x\n",
        "\n",
        "        case 'D':\n",
        "          next_pos_y = pos_y + 1\n",
        "          next_pos_x = pos_x\n",
        "\n",
        "        case 'R':\n",
        "          next_pos_y = pos_y\n",
        "          next_pos_x = pos_x -1\n",
        "\n",
        "        case 'L':\n",
        "          next_pos_y = pos_y\n",
        "          next_pos_x = pos_x + 1\n",
        "\n",
        "      next_cell = board[next_pos_y][next_pos_x]\n",
        "\n",
        "      if next_cell == '*':\n",
        "            return('eat')\n",
        "      elif next_cell == 'o' or next_pos_x > len(fila) or next_pos_x < 0 or next_pos_y > len(board) or next_pos_y < 0:\n",
        "            return('crash')\n",
        "      else:\n",
        "            return('none')\n",
        "\n",
        "\n",
        "board = [\n",
        "  '·····',\n",
        "  '*····',\n",
        "  '@····',\n",
        "  'o····',\n",
        "  'o····'\n",
        "]\n",
        "\n",
        "# console.log(moveTrain(board, 'U'))\n",
        "# // ➞ 'eat'\n",
        "# // Porque el tren se mueve hacia arriba y encuentra una fruta mágica\n",
        "\n",
        "# console.log(moveTrain(board, 'D'))\n",
        "# // ➞ 'crash'\n",
        "# // El tren se mueve hacia abajo y la cabeza se choca consigo mismo\n",
        "\n",
        "# console.log(moveTrain(board, 'L'))\n",
        "# // ➞ 'crash'\n",
        "# // El tren se mueve a la izquierda y se choca contra la pared\n",
        "\n",
        "# console.log(moveTrain(board, 'R'))\n",
        "# // ➞ 'none'\n",
        "# // El tren se mueve hacia derecha y hay un espacio vacío en la derecha\n",
        "\n",
        "for move in ['U', 'D', 'R', 'L']:\n",
        "  print(move_train(board, move), end='\\n\\n')"
      ],
      "metadata": {
        "colab": {
          "base_uri": "https://localhost:8080/"
        },
        "id": "hs2CkCTBxhHa",
        "outputId": "b5a8b803-493a-4f7c-e157-1f0c59e89e22"
      },
      "execution_count": null,
      "outputs": [
        {
          "output_type": "stream",
          "name": "stdout",
          "text": [
            "eat\n",
            "\n",
            "crash\n",
            "\n",
            "crash\n",
            "\n",
            "none\n",
            "\n"
          ]
        }
      ]
    },
    {
      "cell_type": "markdown",
      "source": [
        "# Dia 10"
      ],
      "metadata": {
        "id": "us6roMr-xlmO"
      }
    },
    {
      "cell_type": "code",
      "source": [],
      "metadata": {
        "id": "m-vEEZ6_xoXj"
      },
      "execution_count": null,
      "outputs": []
    },
    {
      "cell_type": "markdown",
      "source": [
        "# Dia 11"
      ],
      "metadata": {
        "id": "zZbt-Qh5xpUy"
      }
    },
    {
      "cell_type": "code",
      "source": [],
      "metadata": {
        "id": "chyvTCElxrGh"
      },
      "execution_count": null,
      "outputs": []
    },
    {
      "cell_type": "markdown",
      "source": [
        "# Dia 12"
      ],
      "metadata": {
        "id": "kon5lVHrxrms"
      }
    },
    {
      "cell_type": "code",
      "source": [],
      "metadata": {
        "id": "YG-tkkENxt_6"
      },
      "execution_count": null,
      "outputs": []
    },
    {
      "cell_type": "markdown",
      "source": [
        "# Dia 13"
      ],
      "metadata": {
        "id": "-7m3CXDBxwvG"
      }
    },
    {
      "cell_type": "code",
      "source": [],
      "metadata": {
        "id": "2UwvpdnUxziB"
      },
      "execution_count": null,
      "outputs": []
    },
    {
      "cell_type": "markdown",
      "source": [
        "# Dia 14"
      ],
      "metadata": {
        "id": "tIlGhtEdxz_E"
      }
    },
    {
      "cell_type": "code",
      "source": [],
      "metadata": {
        "id": "7XftnRR1x3mt"
      },
      "execution_count": null,
      "outputs": []
    }
  ]
}