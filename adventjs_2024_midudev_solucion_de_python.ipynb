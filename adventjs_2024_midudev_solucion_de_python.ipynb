{
  "nbformat": 4,
  "nbformat_minor": 0,
  "metadata": {
    "colab": {
      "provenance": [],
      "authorship_tag": "ABX9TyNopcFdTd+p/5jK1xr+D2Br",
      "include_colab_link": true
    },
    "kernelspec": {
      "name": "python3",
      "display_name": "Python 3"
    },
    "language_info": {
      "name": "python"
    }
  },
  "cells": [
    {
      "cell_type": "markdown",
      "metadata": {
        "id": "view-in-github",
        "colab_type": "text"
      },
      "source": [
        "<a href=\"https://colab.research.google.com/github/ka-dm/midudev-adventjs-python-solutions-2024/blob/main/adventjs_2024_midudev_solucion_de_python.ipynb\" target=\"_parent\"><img src=\"https://colab.research.google.com/assets/colab-badge.svg\" alt=\"Open In Colab\"/></a>"
      ]
    },
    {
      "cell_type": "code",
      "source": [
        "# Dia 2\n",
        "\n",
        "names = ['midu', 'madeval', 'educalvolpz']\n",
        "\n",
        "def createFrame(names):\n",
        "  longitud_maxima = len(max(names, key=len))\n",
        "\n",
        "  respuesta = '*' * (longitud_maxima + 4) + '\\n'\n",
        "  for cadena in names:\n",
        "    linea = '* ' + cadena.ljust(longitud_maxima, ' ') + ' *\\n'\n",
        "    respuesta += linea\n",
        "  respuesta += '*' * (longitud_maxima + 4) + '\\n'\n",
        "  return respuesta\n",
        "\n",
        "print(createFrame(names))\n"
      ],
      "metadata": {
        "colab": {
          "base_uri": "https://localhost:8080/"
        },
        "id": "Fzs0bhThm5hs",
        "outputId": "e75e3606-a2c2-4e32-83dd-90ab78aae35d"
      },
      "execution_count": null,
      "outputs": [
        {
          "output_type": "stream",
          "name": "stdout",
          "text": [
            "***************\n",
            "* midu        *\n",
            "* madeval     *\n",
            "* educalvolpz *\n",
            "***************\n",
            "\n"
          ]
        }
      ]
    },
    {
      "cell_type": "code",
      "source": [
        "# Dia 3\n",
        "\n",
        "inventory = [\n",
        "  { \"name\": 'doll', \"quantity\": 5, \"category\": 'toys' },\n",
        "  { \"name\": 'car', \"quantity\": 3, \"category\": 'toys' },\n",
        "  { \"name\": 'ball', \"quantity\": 2, \"category\": 'sports' },\n",
        "  { \"name\": 'car', \"quantity\": 2, \"category\": 'toys' },\n",
        "  { \"name\": 'racket', \"quantity\": 4, \"category\": 'sports' }\n",
        "]\n",
        "\n",
        "def organizeInventory(inventory):\n",
        "  respuesta = {}\n",
        "\n",
        "  for elemento in inventory:\n",
        "    if elemento['category'] in respuesta:\n",
        "      if elemento['name'] in respuesta[elemento['category']]:\n",
        "        respuesta[elemento['category']][elemento['name']] += elemento['quantity']\n",
        "      else:\n",
        "        respuesta[elemento['category']].update({elemento['name']: elemento['quantity']})\n",
        "\n",
        "    else:\n",
        "      respuesta[elemento['category']] = {elemento['name']: elemento['quantity']}\n",
        "\n",
        "\n",
        "  return respuesta\n",
        "\n",
        "\n",
        "print(organizeInventory(inventory))"
      ],
      "metadata": {
        "colab": {
          "base_uri": "https://localhost:8080/"
        },
        "id": "LMStaHpPqc5y",
        "outputId": "2d469c84-7f12-43c9-ccce-50f402690d25"
      },
      "execution_count": null,
      "outputs": [
        {
          "output_type": "stream",
          "name": "stdout",
          "text": [
            "{'toys': {'doll': 5, 'car': 5}, 'sports': {'ball': 2, 'racket': 4}}\n"
          ]
        }
      ]
    },
    {
      "cell_type": "markdown",
      "source": [
        "# Dia 4\n",
        "\n",
        "**¡Es hora de poner el árbol de Navidad en casa!** 🎄 Pero este año queremos que sea especial. Vamos a crear una función que recibe la altura del árbol (un entero positivo entre 1 y 100) y un carácter especial para decorarlo.\n",
        "\n",
        "La función debe devolver un string que represente el árbol de Navidad, construido de la siguiente manera:\n",
        "\n",
        "* El árbol está compuesto de triángulos de caracteres especiales.\n",
        "* Los espacios en blanco a los lados del árbol se representan con guiones bajos _.\n",
        "* Todos los árboles tienen un tronco de dos líneas, representado por el carácter #.\n",
        "* El árbol siempre debe tener la misma longitud por cada lado.\n",
        "* Debes asegurarte de que el árbol tenga la forma correcta usando saltos de línea \\n para cada línea.\n",
        "\n",
        "# Ejemplos:\n",
        "```javascript\n",
        "const tree = createXmasTree(5, '*')\n",
        "console.log(tree)\n",
        "/*\n",
        "____*____\n",
        "___***___\n",
        "__*****__\n",
        "_*******_\n",
        "*********\n",
        "____#____\n",
        "____#____\n",
        "*/\n",
        "\n",
        "const tree2 = createXmasTree(3, '+')\n",
        "console.log(tree2)\n",
        "/*\n",
        "__+__\n",
        "_+++_\n",
        "+++++\n",
        "__#__\n",
        "__#__\n",
        "*/\n",
        "\n",
        "const tree3 = createXmasTree(6, '@')\n",
        "console.log(tree3)\n",
        "/*\n",
        "_____@_____\n",
        "____@@@____\n",
        "___@@@@@___\n",
        "__@@@@@@@__\n",
        "_@@@@@@@@@_\n",
        "@@@@@@@@@@@\n",
        "_____#_____\n",
        "_____#_____\n",
        "*/\n",
        "Asegúrate de utilizar saltos de línea \\n al final de cada línea, excepto en la última.\n",
        "```\n",
        "\n"
      ],
      "metadata": {
        "id": "DITyZECkvZMG"
      }
    },
    {
      "cell_type": "code",
      "source": [
        "def create_xmas_tree(height, ornament):\n",
        "  tree = ''\n",
        "  mid = round(height/2)\n",
        "  for i in range(height):\n",
        "    white_left = len(ornament * i)\n",
        "    white_right = len(ornament * (i + 1))\n",
        "    tree += \"_\" * ((height - 1) - white_left) + ornament * i + ornament * (i + 1) + \"_\" * (height - white_right)\n",
        "    tree += '\\n'\n",
        "  tree += \"_\" * (height - 1) + '#' + \"_\" * (height - 1) + '\\n'\n",
        "  tree += \"_\" * (height - 1) + '#' + \"_\" * (height - 1)\n",
        "  return tree\n",
        "\n",
        "print(create_xmas_tree(5, '*'), end='\\n\\n')\n",
        "print(create_xmas_tree(3, '+'), end='\\n\\n')\n",
        "print(create_xmas_tree(6, '#'), end='\\n\\n')\n"
      ],
      "metadata": {
        "colab": {
          "base_uri": "https://localhost:8080/"
        },
        "id": "ecHLjK9-oZdq",
        "outputId": "b7e5f3bd-8d7c-423c-b99f-7250e481a75e"
      },
      "execution_count": 46,
      "outputs": [
        {
          "output_type": "stream",
          "name": "stdout",
          "text": [
            "____*____\n",
            "___***___\n",
            "__*****__\n",
            "_*******_\n",
            "*********\n",
            "____#____\n",
            "____#____\n",
            "\n",
            "\n",
            "__+__\n",
            "_+++_\n",
            "+++++\n",
            "__#__\n",
            "__#__\n",
            "\n",
            "\n",
            "_____#_____\n",
            "____###____\n",
            "___#####___\n",
            "__#######__\n",
            "_#########_\n",
            "###########\n",
            "_____#_____\n",
            "_____#_____\n",
            "\n",
            "\n"
          ]
        }
      ]
    },
    {
      "cell_type": "code",
      "source": [],
      "metadata": {
        "id": "-Bo3C9cTp0Zi"
      },
      "execution_count": null,
      "outputs": []
    }
  ]
}